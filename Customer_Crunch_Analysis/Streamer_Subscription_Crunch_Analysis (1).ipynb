{
  "nbformat": 4,
  "nbformat_minor": 0,
  "metadata": {
    "colab": {
      "provenance": []
    },
    "kernelspec": {
      "name": "python3",
      "display_name": "Python 3"
    },
    "language_info": {
      "name": "python"
    }
  },
  "cells": [
    {
      "cell_type": "markdown",
      "source": [
        "# EDA on Streaming Subscription Dataset  \n",
        "This notebook explores subscription data, analyzing customer retention, churn, revenue metrics, and cohort patterns to uncover actionable insights for improving business decisions.\n"
      ],
      "metadata": {
        "id": "xiFJb7peQoJQ"
      }
    },
    {
      "cell_type": "markdown",
      "source": [
        "## 1. Setup & Data Loading  \n",
        "We start by importing the required libraries and loading the subscription dataset into a Pandas DataFrame.\n"
      ],
      "metadata": {
        "id": "GAAooqkHQ02O"
      }
    },
    {
      "cell_type": "code",
      "execution_count": null,
      "metadata": {
        "id": "Lyz4BLjSqGmB"
      },
      "outputs": [],
      "source": [
        "import numpy as np\n",
        "import pandas as pd"
      ]
    },
    {
      "cell_type": "code",
      "source": [
        "df = pd.read_csv(\"Subscription Cohort Analysis Data.csv\")"
      ],
      "metadata": {
        "id": "bY95qNmZqasi"
      },
      "execution_count": null,
      "outputs": []
    },
    {
      "cell_type": "code",
      "source": [
        "df"
      ],
      "metadata": {
        "id": "Fohdqnd4rDDk"
      },
      "execution_count": null,
      "outputs": []
    },
    {
      "cell_type": "markdown",
      "source": [
        "## 2. Data Overview  \n",
        "We inspect the structure of the dataset, data types, and a quick statistical summary to understand the scale of data and potential missing values.\n",
        "- **Key Observation:** There are 3069 rows, and `canceled_date` has missing values for active subscriptions.\n"
      ],
      "metadata": {
        "id": "yoGqWLQQQ61P"
      }
    },
    {
      "cell_type": "code",
      "source": [
        "df.info()"
      ],
      "metadata": {
        "id": "0OvBfeJbrYCs"
      },
      "execution_count": null,
      "outputs": []
    },
    {
      "cell_type": "code",
      "source": [
        "df.describe()"
      ],
      "metadata": {
        "id": "cV_JSVNLsa3c"
      },
      "execution_count": null,
      "outputs": []
    },
    {
      "cell_type": "code",
      "source": [
        "df.columns"
      ],
      "metadata": {
        "id": "cKxjV5RCs9Oc"
      },
      "execution_count": null,
      "outputs": []
    },
    {
      "cell_type": "markdown",
      "source": [
        "Converting 2 columns into Datetime"
      ],
      "metadata": {
        "id": "NffvagmQt0zZ"
      }
    },
    {
      "cell_type": "code",
      "source": [
        "df['created_date'] = pd.to_datetime(df['created_date'])\n",
        "df['canceled_date'] = pd.to_datetime(df['canceled_date'])"
      ],
      "metadata": {
        "id": "Pd8V12mhtJQM"
      },
      "execution_count": null,
      "outputs": []
    },
    {
      "cell_type": "code",
      "source": [
        "df.info()"
      ],
      "metadata": {
        "id": "73XqodJ1tmxM"
      },
      "execution_count": null,
      "outputs": []
    },
    {
      "cell_type": "code",
      "source": [
        "# Converting \"was_subscription_paid\" feild into True False instead of Yes, No\n",
        "df['was_subscription_paid'].sample(8)"
      ],
      "metadata": {
        "id": "q9TPd1WTtw0T"
      },
      "execution_count": null,
      "outputs": []
    },
    {
      "cell_type": "code",
      "source": [
        "mapping = {\"Yes\":True, \"No\":False}\n",
        "df['was_subscription_paid'] = df['was_subscription_paid'].map(mapping)"
      ],
      "metadata": {
        "id": "fL6qJSknuKEc"
      },
      "execution_count": null,
      "outputs": []
    },
    {
      "cell_type": "code",
      "source": [
        "df.head()"
      ],
      "metadata": {
        "id": "1HVX1eXwF0Mz"
      },
      "execution_count": null,
      "outputs": []
    },
    {
      "cell_type": "code",
      "source": [
        "df['subscription_interval'].value_counts()"
      ],
      "metadata": {
        "id": "8l-kZCJpGDGD"
      },
      "execution_count": null,
      "outputs": []
    },
    {
      "cell_type": "code",
      "source": [
        "# In this the missing values indicate the number of active suscriptions\n",
        "df['canceled_date'].isnull().sum()"
      ],
      "metadata": {
        "id": "leDMwcQuGQ6z"
      },
      "execution_count": null,
      "outputs": []
    },
    {
      "cell_type": "markdown",
      "source": [
        "## 3. Data Cleaning & Feature Engineering  \n",
        "We create new columns to make the analysis easier:\n",
        "- `subscription_duration_days` → Number of days a subscription lasted\n",
        "- `is_active` → Binary column indicating whether the subscription is still active\n",
        "- `signup_month` → Month of subscription start\n",
        "- `subscription_number` → Number of times a customer has subscribed\n",
        "- `days_since_last_cancellation` → Time since last cancellation\n",
        "\n",
        "These features will help in churn analysis and cohort segmentation.\n"
      ],
      "metadata": {
        "id": "7-_DPNo9Pwgb"
      }
    },
    {
      "cell_type": "code",
      "source": [
        "df.columns"
      ],
      "metadata": {
        "id": "1F_CqUilIlR8"
      },
      "execution_count": null,
      "outputs": []
    },
    {
      "cell_type": "code",
      "source": [
        "df['subscription_duration_days'] = (df['canceled_date'].fillna(pd.Timestamp.today())  - df['created_date']).dt.days"
      ],
      "metadata": {
        "id": "azucCce9KHWs"
      },
      "execution_count": null,
      "outputs": []
    },
    {
      "cell_type": "code",
      "source": [
        "df['is_active'] = df['canceled_date'].isna()"
      ],
      "metadata": {
        "id": "XpeQ5SoeL-dF"
      },
      "execution_count": null,
      "outputs": []
    },
    {
      "cell_type": "code",
      "source": [
        "# Month / Year Singup\n",
        "df['singup_month'] = df['created_date'].dt.to_period('M')"
      ],
      "metadata": {
        "id": "Ayqc_YnbL_-D"
      },
      "execution_count": null,
      "outputs": []
    },
    {
      "cell_type": "code",
      "source": [
        "df"
      ],
      "metadata": {
        "id": "pUenTF5aMjt0"
      },
      "execution_count": null,
      "outputs": []
    },
    {
      "cell_type": "code",
      "source": [
        "df.duplicated().sum()"
      ],
      "metadata": {
        "id": "tVqRZil2NART"
      },
      "execution_count": null,
      "outputs": []
    },
    {
      "cell_type": "code",
      "source": [
        "df['customer_id'].duplicated().sum()"
      ],
      "metadata": {
        "id": "1jXcFuvJONSF"
      },
      "execution_count": null,
      "outputs": []
    },
    {
      "cell_type": "code",
      "source": [
        "df.info()"
      ],
      "metadata": {
        "id": "s9Vow_X0OTwE"
      },
      "execution_count": null,
      "outputs": []
    },
    {
      "cell_type": "markdown",
      "source": [
        " Investigate the Duplicates of Customer_id Before Dropping.\n",
        "They could be re-subscribtions"
      ],
      "metadata": {
        "id": "Wn1uhXaZaoA8"
      }
    },
    {
      "cell_type": "code",
      "source": [
        "duplicates = df[df.duplicated(subset=['customer_id'], keep=False)]\n",
        "duplicates.sort_values(by=['customer_id', 'created_date'])"
      ],
      "metadata": {
        "id": "-1V1tR6mOwEc"
      },
      "execution_count": null,
      "outputs": []
    },
    {
      "cell_type": "markdown",
      "source": [
        "this confirms that those \"duplicates\" are not duplicates in the bad-data sense, but actual churn + resubscribe events\n",
        "\n",
        "customer_id 116060198 canceled on 2023-03-20, then signed up again on 2023-04-24.\n",
        "\n",
        "customer_id 119436804 canceled on 2023-04-10, then signed up again on 2023-05-21."
      ],
      "metadata": {
        "id": "bxillmkSdHVh"
      }
    },
    {
      "cell_type": "code",
      "source": [
        "# Creating a new coulmn subscription_number  that shows the count of subscription to dsistinct from rescribers and single time subscribers.\n",
        "df['subscription_number'] = df.groupby('customer_id').cumcount() + 1"
      ],
      "metadata": {
        "id": "o7tp-TNXcp1U"
      },
      "execution_count": null,
      "outputs": []
    },
    {
      "cell_type": "code",
      "source": [],
      "metadata": {
        "id": "7uoJyfYWPNmD"
      },
      "execution_count": null,
      "outputs": []
    },
    {
      "cell_type": "markdown",
      "source": [
        "Also adding another days column that shows how often people are return after canceling the subscription"
      ],
      "metadata": {
        "id": "xNPG1g3FeXMs"
      }
    },
    {
      "cell_type": "code",
      "source": [
        "df['days_since_last_cancellation'] = (\n",
        "    df.groupby('customer_id')['created_date'].diff().dt.days)\n"
      ],
      "metadata": {
        "id": "YZhIXmgWd8c-"
      },
      "execution_count": null,
      "outputs": []
    },
    {
      "cell_type": "code",
      "source": [
        "df.head()"
      ],
      "metadata": {
        "id": "Q6QZPknQgFbp"
      },
      "execution_count": null,
      "outputs": []
    },
    {
      "cell_type": "markdown",
      "source": [
        "# EDA\n",
        "In this section, we explore the subscription dataset to uncover patterns, trends, and anomalies.  \n",
        "Our goal is to understand customer behavior, identify churn patterns, measure retention, and evaluate the overall health of the subscription business.  \n",
        "\n",
        "The analysis is divided into the following key parts:\n",
        "- **Churn & Retention Analysis** – Measure churn rate, early churn, and active subscriber base.\n",
        "- **Revenue Metrics** – Calculate ARPU (Average Revenue per User) and overall revenue contribution.\n",
        "- **Cohort Analysis** – Group customers by signup month to study retention over time.\n",
        "- **Visualizations** – Plot trends and patterns to make the insights actionable."
      ],
      "metadata": {
        "id": "EgWbWc_Ykx2j"
      }
    },
    {
      "cell_type": "code",
      "source": [
        "# Basic Dataset Understanding"
      ],
      "metadata": {
        "id": "bI2YJ7OWkXB3"
      },
      "execution_count": null,
      "outputs": []
    },
    {
      "cell_type": "code",
      "source": [
        "total_customers = df['customer_id'].nunique()\n",
        "print(f\"Total Unique customers count: {total_customers}\")\n",
        "\n",
        "total_subscriptions = len(df)\n",
        "print(f\"Total subscriptions: {total_subscriptions}\")\n",
        "\n",
        "repeat_customer = df[df['subscription_number'] > 1]['customer_id'].nunique()\n",
        "print(f\"Repeat Customers Count: {repeat_customer}\")\n",
        "\n",
        "pect_of_repeat = round((repeat_customer / total_subscriptions) * 100)\n",
        "print(f\"Percentage of Repeated Customers: {pect_of_repeat}% \")"
      ],
      "metadata": {
        "id": "oMYrAPATsRdF"
      },
      "execution_count": null,
      "outputs": []
    },
    {
      "cell_type": "code",
      "source": [
        "# Subscription Duration\n",
        "df['subscription_duration_days'].describe()\n"
      ],
      "metadata": {
        "id": "MiTvQcIitYF2"
      },
      "execution_count": null,
      "outputs": []
    },
    {
      "cell_type": "code",
      "source": [
        "# % of subscriptions with duration  < 7 days\n",
        "\n",
        "short_duration_count = (df['subscription_duration_days'] < 7).sum()\n",
        "total_subscriptions = len(df)\n",
        "print(f\"Number of subscriptions less than 7 days: {short_duration_count}\")\n",
        "\n",
        "if total_subscriptions > 0:\n",
        "  perct_short_days = (short_duration_count / total_subscriptions) * 100\n",
        "else:\n",
        "  perct_short_days = 0\n",
        "print(f\"Percentage of short-duration subscriptions: {perct_short_days:.2f}%\")"
      ],
      "metadata": {
        "id": "4U4YCH43xKwe"
      },
      "execution_count": null,
      "outputs": []
    },
    {
      "cell_type": "code",
      "source": [
        "percentages = (df['was_subscription_paid'].value_counts(normalize=True) * 100).map('{:.0f}%'.format)\n",
        "print(percentages)"
      ],
      "metadata": {
        "id": "sw1jDN2_y4Ot"
      },
      "execution_count": null,
      "outputs": []
    },
    {
      "cell_type": "code",
      "source": [
        "# singup of per month\n",
        "df['singup_month'].value_counts().sort_index()"
      ],
      "metadata": {
        "id": "p3ZjTYWz0Gy1"
      },
      "execution_count": null,
      "outputs": []
    },
    {
      "cell_type": "code",
      "source": [
        "# Cancellations per Month count of each month\n",
        "df.dropna(subset=['canceled_date'])['canceled_date'].dt.to_period('M').value_counts().sort_index()"
      ],
      "metadata": {
        "id": "SfgZaBbC2tlW"
      },
      "execution_count": null,
      "outputs": []
    },
    {
      "cell_type": "markdown",
      "source": [
        "## 4. Churn & Retention Analysis  \n",
        "We calculate key subscription health metrics:\n",
        "- **Churn Rate:** X% of customers have churned (i.e., are inactive).\n",
        "- **Early Churn:** Y% of churn happens within the first 7 days.\n",
        "- **ARPU:** The average revenue per user is ₹Z.\n",
        "\n",
        "**Insights:**\n",
        "- A high early churn rate may indicate onboarding issues.\n",
        "- ARPU gives a measure of customer value and can be used for forecasting."
      ],
      "metadata": {
        "id": "c9SUcYLtY3TM"
      }
    },
    {
      "cell_type": "code",
      "source": [
        "# Find when customers are dropping off.\n",
        "churn_rate = 1 - df['is_active'].mean()\n",
        "print(f\"Churn Rate: {churn_rate * 100:.2f}%\")"
      ],
      "metadata": {
        "id": "cPAVamyW3MEe"
      },
      "execution_count": null,
      "outputs": []
    },
    {
      "cell_type": "code",
      "source": [
        "# Churn by Subscription Number\n",
        "churn_by_subscription = (\n",
        "    1 - df.groupby('subscription_number')['is_active'].mean()) * 100\n",
        "print(churn_by_subscription)"
      ],
      "metadata": {
        "id": "Hvp1T_r8ZCvH"
      },
      "execution_count": null,
      "outputs": []
    },
    {
      "cell_type": "code",
      "source": [
        "# Distribution of Subscription Duration\n",
        "df['subscription_duration_days'].hist(bins=30)"
      ],
      "metadata": {
        "id": "p6-XIfdDZpC1"
      },
      "execution_count": null,
      "outputs": []
    },
    {
      "cell_type": "code",
      "source": [
        "# Check if most churn happens early (common in subscription businesses)\n",
        "early_churn = (df['subscription_duration_days'] <= 7).mean()\n",
        "print(f\"\\nEarly Churn (<=7 days): {early_churn * 100:.2f}%\")"
      ],
      "metadata": {
        "id": "rWStFYYDZ3ct"
      },
      "execution_count": null,
      "outputs": []
    },
    {
      "cell_type": "markdown",
      "source": [
        "Reactivation Analysis"
      ],
      "metadata": {
        "id": "LDGdT-Z_aOLE"
      }
    },
    {
      "cell_type": "code",
      "source": [
        "# Study returning customers.\n",
        "df[df['subscription_number'] > 1]['days_since_last_cancellation'].describe()"
      ],
      "metadata": {
        "id": "gwZIxuCMaD4V"
      },
      "execution_count": null,
      "outputs": []
    },
    {
      "cell_type": "code",
      "source": [
        "# Gap Distribution\n",
        "# Look at how quickly users resubscribe (short vs long gaps)"
      ],
      "metadata": {
        "id": "lXt5giLhaVLl"
      },
      "execution_count": null,
      "outputs": []
    },
    {
      "cell_type": "markdown",
      "source": [
        "Revenue & Payment Analysis"
      ],
      "metadata": {
        "id": "WdFnvShdakuN"
      }
    },
    {
      "cell_type": "code",
      "source": [
        "total_revenue = df[df['was_subscription_paid']]['subscription_cost'].sum()\n",
        "print(total_revenue)"
      ],
      "metadata": {
        "id": "FPnnLPmHaiAy"
      },
      "execution_count": null,
      "outputs": []
    },
    {
      "cell_type": "code",
      "source": [
        "# Average Revenue Per User (ARPU)\n",
        "arpu = total_revenue / total_customers\n",
        "print(f\"\\nAverage Revenue Per User (ARPU): ${arpu:.2f}\")"
      ],
      "metadata": {
        "id": "VkYAOmJvapLV"
      },
      "execution_count": null,
      "outputs": []
    },
    {
      "cell_type": "code",
      "source": [
        "# Lost Revenue (Unpaid)\n",
        "unpaid_loss = df[~df['was_subscription_paid']]['subscription_cost'].sum()\n",
        "print(unpaid_loss)"
      ],
      "metadata": {
        "id": "55GZTYaBa2Td"
      },
      "execution_count": null,
      "outputs": []
    },
    {
      "cell_type": "markdown",
      "source": [
        "## 5. Cohort Analysis  \n",
        "We perform cohort analysis by signup month to measure retention across time.\n",
        "\n",
        "**Insights:**\n",
        "- Identify which months show higher retention.\n",
        "- Spot trends in customer drop-off rates over time."
      ],
      "metadata": {
        "id": "FHOU-T3-bKZC"
      }
    },
    {
      "cell_type": "code",
      "source": [
        "# % of users from each signup month remain subscribed in later months.\n",
        "# Filtering the first-time subscribers only:\n",
        "first_subscriptions = df[df['subscription_number'] == 1].copy()\n"
      ],
      "metadata": {
        "id": "_5Jo6hsXa8LV"
      },
      "execution_count": null,
      "outputs": []
    },
    {
      "cell_type": "code",
      "source": [
        "first_subscriptions.shape"
      ],
      "metadata": {
        "id": "HTI1PUhLb-wu"
      },
      "execution_count": null,
      "outputs": []
    },
    {
      "cell_type": "code",
      "source": [
        "# Create a column for cohort month:\n",
        "first_subscriptions['cohort_month'] = first_subscriptions['created_date'].dt.to_period('M')"
      ],
      "metadata": {
        "id": "ZDtQlJUGfGYG"
      },
      "execution_count": null,
      "outputs": []
    },
    {
      "cell_type": "code",
      "source": [
        "# Create a column for active month (month of activity):\n",
        "first_subscriptions['active_month'] = first_subscriptions['created_date'] + pd.to_timedelta(first_subscriptions['subscription_duration_days'], unit='D')\n",
        "first_subscriptions['active_month'] = first_subscriptions['active_month'].dt.to_period('M')"
      ],
      "metadata": {
        "id": "5WNfw2ANfRWO"
      },
      "execution_count": null,
      "outputs": []
    },
    {
      "cell_type": "code",
      "source": [
        "# Calculate cohort index (how many months after signup they are still active):\n",
        "first_subscriptions['cohort_index'] = (\n",
        "    (first_subscriptions['active_month'] - first_subscriptions['cohort_month']).apply(lambda x: x.n)\n",
        ")\n"
      ],
      "metadata": {
        "id": "DTvuYdlhfZkO"
      },
      "execution_count": null,
      "outputs": []
    },
    {
      "cell_type": "code",
      "source": [
        "# Building a retention table:\n",
        "cohort_data = (\n",
        "    first_subscriptions.groupby(['cohort_month', 'cohort_index'])['customer_id'].nunique().unstack(fill_value = 0)\n",
        ")\n",
        "\n",
        "cohort_size = cohort_data.iloc[:,0]\n",
        "retention = cohort_data.divide(cohort_size, axis=0) * 100\n",
        "print(retention.round(2))\n"
      ],
      "metadata": {
        "id": "GKROk3y9fhXO"
      },
      "execution_count": null,
      "outputs": []
    },
    {
      "cell_type": "markdown",
      "source": [
        "This gave us a matrix where:\n",
        "\n",
        "Rows = signup month\n",
        "\n",
        "Columns = months since signup\n",
        "\n",
        "Values = % of customers still active"
      ],
      "metadata": {
        "id": "2wXOFp6CJtyA"
      }
    },
    {
      "cell_type": "code",
      "source": [
        "crunch = 100 - retention\n",
        "print(crunch.round(2))"
      ],
      "metadata": {
        "id": "2BDi89BtJXPa"
      },
      "execution_count": null,
      "outputs": []
    },
    {
      "cell_type": "markdown",
      "source": [
        "Instead of retention, show what % of users churned in each month after signup.\n",
        "This is just 100 - retention."
      ],
      "metadata": {
        "id": "S1wK3SJ0KKbl"
      }
    },
    {
      "cell_type": "markdown",
      "source": [
        "Which months had the most users coming back after churn"
      ],
      "metadata": {
        "id": "2pzjcGtZKSRI"
      }
    },
    {
      "cell_type": "code",
      "source": [
        "reactivations = df[df['subscription_number'] > 1]\n",
        "reactivation_cohort = (\n",
        "    reactivations.groupby(['singup_month'])['customer_id']\n",
        "    .nunique()\n",
        ")\n",
        "print(reactivation_cohort)"
      ],
      "metadata": {
        "id": "9CAKB5TWKBd4"
      },
      "execution_count": null,
      "outputs": []
    },
    {
      "cell_type": "markdown",
      "source": [
        "Paid vs Unpaid Cohort Retention"
      ],
      "metadata": {
        "id": "g_HiNTv7KmdL"
      }
    },
    {
      "cell_type": "code",
      "source": [
        "paid_retention = (\n",
        "    first_subscriptions[first_subscriptions['was_subscription_paid']]\n",
        "    .groupby(['cohort_month', 'cohort_index'])['customer_id']\n",
        "    .nunique()\n",
        "    .unstack(fill_value=0)\n",
        ")\n",
        "\n",
        "paid_retention = paid_retention.divide(paid_retention.iloc[:, 0], axis=0) * 100\n",
        "print(paid_retention.round(2))"
      ],
      "metadata": {
        "id": "9pMKHEfcKhuQ"
      },
      "execution_count": null,
      "outputs": []
    },
    {
      "cell_type": "code",
      "source": [
        "import plotly.express as px\n",
        "\n",
        "status_counts = df['is_active'].value_counts().reset_index()\n",
        "status_counts.columns = ['is_active', 'count']\n",
        "status_counts['is_active'] = status_counts['is_active'].map({True: 'Active', False: 'Churned'})\n",
        "\n",
        "fig = px.pie(\n",
        "    status_counts,\n",
        "    values='count',\n",
        "    names='is_active',\n",
        "    title='<b>Active vs. Churned Subscribers</b>',\n",
        "    hole=0.4,\n",
        "    color='is_active',\n",
        "    color_discrete_map={'Active': 'mediumturquoise', 'Churned': 'gold'}\n",
        ")\n",
        "fig.update_traces(\n",
        "    textinfo='percent+label',\n",
        "    marker=dict(line=dict(color='#FFFFFF', width=2)),\n",
        "    pull=[0.05, 0],\n",
        "    hovertemplate=\"<b>%{label}</b><br>Subscribers: %{value}<br>Proportion: %{percent}\"\n",
        ")\n",
        "fig.update_layout(\n",
        "    title_x=0.5,\n",
        "    legend_title_text='Subscription Status',\n",
        "    annotations=[dict(text='Status', x=0.5, y=0.5, font_size=20, showarrow=False)]\n",
        ")\n",
        "fig.show()"
      ],
      "metadata": {
        "id": "vZOy2wrOH67W"
      },
      "execution_count": null,
      "outputs": []
    },
    {
      "cell_type": "code",
      "source": [
        "signup_trend = df.groupby('singup_month')['customer_id'].nunique().reset_index()\n",
        "signup_trend.columns = ['signup_month', 'unique_customers']\n",
        "\n",
        "signup_trend['signup_month'] = signup_trend['signup_month'].astype(str)\n",
        "\n",
        "fig = px.bar(\n",
        "    signup_trend,\n",
        "    x='signup_month',\n",
        "    y='unique_customers',\n",
        "    title=\"<b>Customer Signups Over Time</b>\",\n",
        "    labels={'signup_month': 'Signup Month', 'unique_customers': 'Unique Customers'},\n",
        "    text='unique_customers',\n",
        "    color='unique_customers',\n",
        "    color_continuous_scale='Tealgrn',\n",
        "    template='plotly_white'\n",
        ")\n",
        "fig.update_xaxes(\n",
        "    type='category',\n",
        "    tickangle=-45,\n",
        "    showline=True,\n",
        "    linewidth=1,\n",
        "    linecolor='black'\n",
        ")\n",
        "fig.update_yaxes(\n",
        "    showline=True,\n",
        "    linewidth=1,\n",
        "    linecolor='black'\n",
        ")\n",
        "fig.update_traces(\n",
        "    texttemplate='%{text}',\n",
        "    textposition='outside',\n",
        "    marker=dict(line=dict(color='black', width=1.2))\n",
        ")\n",
        "fig.update_layout(\n",
        "    title_x=0.5,\n",
        "    coloraxis_showscale=False,\n",
        "    margin=dict(t=60, b=60, l=60, r=40),\n",
        "    font=dict(size=14),\n",
        "    bargap=0.2\n",
        ")\n",
        "fig.show()"
      ],
      "metadata": {
        "id": "euix-spfUA7D"
      },
      "execution_count": null,
      "outputs": []
    },
    {
      "cell_type": "code",
      "source": [
        "churn_by_sub = df.groupby('subscription_number')['is_active'].mean().reset_index()\n",
        "churn_by_sub['churn_rate'] = 1 - churn_by_sub['is_active']\n",
        "churn_by_sub['subscription_number'] = churn_by_sub['subscription_number'].astype(str)\n",
        "\n",
        "fig = px.bar(\n",
        "    churn_by_sub,\n",
        "    x='subscription_number',\n",
        "    y='churn_rate',\n",
        "    title=\"<b>Churn Rate by Subscription Number</b>\",\n",
        "    labels={'churn_rate': 'Churn Rate', 'subscription_number': 'Subscription Number'},\n",
        "    text=churn_by_sub['churn_rate'].map(lambda x: f\"{x:.1%}\"),\n",
        "    color='churn_rate',\n",
        "    color_continuous_scale='Tealgrn',\n",
        "    template='plotly_white'\n",
        ")\n",
        "fig.update_xaxes(\n",
        "    type='category',\n",
        "    showline=True,\n",
        "    linewidth=1,\n",
        "    linecolor='black'\n",
        ")\n",
        "fig.update_yaxes(\n",
        "    showline=True,\n",
        "    linewidth=1,\n",
        "    linecolor='black',\n",
        "    tickformat=\".0%\"\n",
        ")\n",
        "fig.update_traces(\n",
        "    textposition='outside',\n",
        "    marker=dict(line=dict(color='black', width=1.2))\n",
        ")\n",
        "fig.update_layout(\n",
        "    title_x=0.5,\n",
        "    coloraxis_showscale=False,\n",
        "    margin=dict(t=60, b=60, l=60, r=40),\n",
        "    font=dict(size=14),\n",
        "    bargap=0.2\n",
        ")\n",
        "fig.show()\n"
      ],
      "metadata": {
        "id": "EnC1X-i9UxWK"
      },
      "execution_count": null,
      "outputs": []
    },
    {
      "cell_type": "code",
      "source": [
        "early_churn_df = pd.DataFrame({\n",
        "    \"Category\": [\"Early Churned (≤7 days)\", \"Others\"],\n",
        "    \"Count\": [\n",
        "        df[df['subscription_duration_days'] <= 7].shape[0],\n",
        "        df[df['subscription_duration_days'] > 7].shape[0]\n",
        "    ]\n",
        "})\n",
        "fig = px.pie(\n",
        "    early_churn_df,\n",
        "    values='Count',\n",
        "    names='Category',\n",
        "    title=\"<b>Early Churn vs. Others</b>\",\n",
        "    hole=0.45,\n",
        "    color='Category',\n",
        "    color_discrete_map={\n",
        "        \"Early Churned (≤7 days)\": \"gold\",\n",
        "        \"Others\": \"mediumturquoise\"\n",
        "    }\n",
        ")\n",
        "fig.update_traces(\n",
        "    textinfo='percent+label',\n",
        "    marker=dict(line=dict(color='white', width=2)),\n",
        "    pull=[0.08, 0],\n",
        "    hovertemplate=\"<b>%{label}</b><br>Subscribers: %{value}<br>Proportion: %{percent}\"\n",
        ")\n",
        "fig.update_layout(\n",
        "    title_x=0.5,\n",
        "    legend_title_text='Subscriber Group',\n",
        "    annotations=[dict(text='Churn', x=0.5, y=0.5, font_size=18, showarrow=False)],\n",
        "    font=dict(size=14),\n",
        "    margin=dict(t=60, b=20, l=40, r=40)\n",
        ")\n",
        "fig.show()\n"
      ],
      "metadata": {
        "id": "_-g0nrG2VdL6"
      },
      "execution_count": null,
      "outputs": []
    },
    {
      "cell_type": "markdown",
      "source": [
        "# Key Insights from the Analysis\n",
        "\n",
        "Here’s what stood out from the subscription data after our EDA:\n",
        "\n",
        "- **Customer Base:**  \n",
        "  We have **2,877 unique customers** but a total of **3,069 subscriptions**, meaning some customers have resubscribed.  \n",
        "  Only **6% of customers are repeat buyers** — this is relatively low for a subscription-based business.  \n",
        "  Improving retention and incentivizing renewals could help grow this number.\n",
        "\n",
        "- **Churn Rate is High:**  \n",
        "  The **overall churn rate is ~65%**, which is not a good sign.  \n",
        "  High churn means we are losing a large portion of our customer base and spending more effort (and money) on acquiring new customers instead of keeping existing ones.\n",
        "\n",
        "- **Subscription Duration:**  \n",
        "  About **10.9% of subscriptions lasted less than 7 days**, which is a strong signal of **early churn**.  \n",
        "  This could mean customers are signing up but not finding enough value to continue.  \n",
        "  Addressing onboarding and initial user experience could help reduce this early drop-off.\n",
        "\n",
        "- **Payment Status:**  \n",
        "  **96% of subscriptions were paid successfully** while **4% failed**.  \n",
        "  This is a positive sign — payment collection does not seem to be a major issue.\n",
        "\n",
        "- **Subscription Number vs Churn:**  \n",
        "  Churn is **highest for first-time subscribers (67%)** but drops sharply for second subscriptions (36%) and is almost zero for third subscriptions.  \n",
        "  This is encouraging — customers who give us a second chance are much more likely to stick around.  \n",
        "  Focusing on getting churned users to resubscribe could significantly improve retention.\n",
        "\n",
        "- **Revenue Metrics:**  \n",
        "  The **ARPU (Average Revenue Per User) is $39.80**, which makes sense since every subscription is priced at $39.  \n",
        "  This metric will become more useful if we introduce variable pricing tiers in the future.\n",
        "\n",
        "---\n",
        "\n",
        "**Overall Impression:**  \n",
        "The data shows a healthy acquisition rate but **struggles with retention**. The first subscription cycle seems to be the biggest challenge, with a lot of customers leaving within days.  \n",
        "Improving early user experience and running win-back campaigns for churned users could have a large impact on overall growth.\n"
      ],
      "metadata": {
        "id": "8wQ01cKwZona"
      }
    },
    {
      "cell_type": "code",
      "source": [],
      "metadata": {
        "id": "F3i-Pa5-WUWr"
      },
      "execution_count": null,
      "outputs": []
    },
    {
      "cell_type": "code",
      "source": [],
      "metadata": {
        "id": "PSdX0bHmNvTz"
      },
      "execution_count": null,
      "outputs": []
    }
  ]
}